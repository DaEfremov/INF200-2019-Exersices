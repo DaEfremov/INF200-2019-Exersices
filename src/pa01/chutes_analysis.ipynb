{
 "cells": [
  {
   "cell_type": "markdown",
   "source": [
    "## Game code:"
   ],
   "metadata": {
    "collapsed": false,
    "pycharm": {
     "name": "#%% md\n"
    }
   }
  },
  {
   "cell_type": "code",
   "execution_count": 45,
   "outputs": [],
   "source": [
    "import random as rd\n",
    "import statistics\n",
    "import matplotlib.pyplot as plt\n",
    "%matplotlib inline\n",
    "\n",
    "\n",
    "def throw_dice():\n",
    "    return rd.randint(1, 6)\n",
    "\n",
    "\n",
    "def check_ladder_or_snake(position):\n",
    "    critical_pos = {1: 40, 8: 10, 36: 52, 43: 62, 49: 79,\n",
    "                    65: 82, 68: 85, 24: 5, 33: 3, 42: 30,\n",
    "                    56: 37, 64: 27, 74: 12, 87: 70}\n",
    "\n",
    "    if position in critical_pos:\n",
    "        position = critical_pos[position]\n",
    "\n",
    "    return position\n",
    "\n",
    "\n",
    "def create_players(num_players):\n",
    "    players = []\n",
    "\n",
    "    for i in range(num_players):\n",
    "        players.append(0)\n",
    "\n",
    "    return players\n",
    "\n",
    "\n",
    "def make_a_move(players):\n",
    "    for index, old_pos in enumerate(players):\n",
    "\n",
    "        dice = throw_dice()\n",
    "        new_pos = old_pos + dice\n",
    "\n",
    "        if new_pos > 90:\n",
    "            new_pos = 90 - (dice - (90 - old_pos))  # FIKS\n",
    "\n",
    "        new_pos = check_ladder_or_snake(new_pos)\n",
    "\n",
    "        players[index] = new_pos\n",
    "\n",
    "    return players\n",
    "\n",
    "\n",
    "def single_game(num_players):\n",
    "    \"\"\"\n",
    "    Returns duration of single game.\n",
    "\n",
    "    Arguments\n",
    "    ---------\n",
    "    num_players : int\n",
    "        Number of players in the game\n",
    "\n",
    "    Returns\n",
    "    -------\n",
    "    num_moves : int\n",
    "        Number of moves the winning player needed to reach the goal\n",
    "    \"\"\"\n",
    "\n",
    "    players_positions = create_players(num_players)\n",
    "    num_of_moves = 0\n",
    "    win_condition = False\n",
    "\n",
    "    while win_condition == False:\n",
    "        num_of_moves += 1\n",
    "\n",
    "        players_positions = make_a_move(players_positions)\n",
    "\n",
    "        if 90 in players_positions:\n",
    "            win_condition = True\n",
    "\n",
    "    return num_of_moves\n",
    "\n",
    "\n",
    "def multiple_games(num_games, num_players):\n",
    "    \"\"\"\n",
    "    Returns durations of a number of games.\n",
    "\n",
    "    Arguments\n",
    "    ---------\n",
    "    num_games : int\n",
    "        Number of games to play\n",
    "    num_players : int\n",
    "        Number of players in the game\n",
    "\n",
    "    Returns\n",
    "    -------\n",
    "    num_moves : list\n",
    "        List with the numbedr of moves needed in each game.\n",
    "    \"\"\"\n",
    "\n",
    "    num_moves = []\n",
    "\n",
    "    for i in range(num_games):\n",
    "        num_moves.append(single_game(num_players))\n",
    "\n",
    "    return num_moves\n",
    "\n",
    "\n",
    "def multi_game_experiment(num_games, num_players, seed):\n",
    "    \"\"\"\n",
    "    Returns durations of a number of games when playing with given seed.\n",
    "\n",
    "    Arguments\n",
    "    ---------\n",
    "    num_games : int\n",
    "        Number of games to play\n",
    "    num_players : int\n",
    "        Number of players in the game\n",
    "    seed : int\n",
    "        Seed used to initialise the random number generator\n",
    "\n",
    "    Returns\n",
    "    -------\n",
    "    num_moves : list\n",
    "        List with the numbedr of moves needed in each game.\n",
    "    \"\"\"\n",
    "    rd.seed(seed)\n",
    "    num_moves = multiple_games(num_games, num_players)\n",
    "    return num_moves"
   ],
   "metadata": {
    "collapsed": false,
    "pycharm": {
     "name": "#%%\n",
     "is_executing": false
    }
   }
  },
  {
   "cell_type": "markdown",
   "source": [
    "# Experiments\n",
    "### Define parameters"
   ],
   "metadata": {
    "collapsed": false,
    "pycharm": {
     "name": "#%% md\n"
    }
   }
  },
  {
   "cell_type": "code",
   "execution_count": 46,
   "outputs": [],
   "source": [
    "num_games = 100\n",
    "seed = 3"
   ],
   "metadata": {
    "collapsed": false,
    "pycharm": {
     "name": "#%%\n",
     "is_executing": false
    }
   }
  },
  {
   "cell_type": "markdown",
   "source": [
    "### Experiment with 1 player\n"
   ],
   "metadata": {
    "collapsed": false,
    "pycharm": {
     "name": "#%% md\n"
    }
   }
  },
  {
   "cell_type": "code",
   "execution_count": 47,
   "outputs": [
    {
     "data": {
      "text/plain": "<Figure size 432x288 with 1 Axes>",
      "image/png": "[encoded data removed]"
     },
     "metadata": {
      "needs_background": "light"
     },
     "output_type": "display_data"
    }
   ],
   "source": [
    "experiment_with_1_player = multi_game_experiment(num_games, 1, seed)\n",
    "\n",
    "plt.hist(experiment_with_1_player, 30)\n",
    "plt.show()"
   ],
   "metadata": {
    "collapsed": false,
    "pycharm": {
     "name": "#%%\n",
     "is_executing": false
    }
   }
  },
  {
   "cell_type": "markdown",
   "source": [
    "### Experiment with 2 players\n",
    "\n"
   ],
   "metadata": {
    "collapsed": false
   }
  },
  {
   "cell_type": "code",
   "execution_count": 48,
   "outputs": [
    {
     "data": {
      "text/plain": "<Figure size 432x288 with 1 Axes>",
      "image/png": "[encoded data removed]"
     },
     "metadata": {
      "needs_background": "light"
     },
     "output_type": "display_data"
    }
   ],
   "source": [
    "experiment_with_2_player = multi_game_experiment(num_games, 2, seed)\n",
    "\n",
    "plt.hist(experiment_with_2_player, 30)\n",
    "plt.show()"
   ],
   "metadata": {
    "collapsed": false,
    "pycharm": {
     "name": "#%%\n",
     "is_executing": false
    }
   }
  },
  {
   "cell_type": "markdown",
   "source": [
    "### Experiment with 4 players"
   ],
   "metadata": {
    "collapsed": false
   }
  },
  {
   "cell_type": "code",
   "execution_count": 49,
   "outputs": [
    {
     "data": {
      "text/plain": "<Figure size 432x288 with 1 Axes>",
      "image/png": "[encoded data removed]"
     },
     "metadata": {
      "needs_background": "light"
     },
     "output_type": "display_data"
    }
   ],
   "source": [
    "experiment_with_4_player = multi_game_experiment(num_games, 4, seed)\n",
    "\n",
    "plt.hist(experiment_with_4_player, 30)\n",
    "plt.show()"
   ],
   "metadata": {
    "collapsed": false,
    "pycharm": {
     "name": "#%%\n",
     "is_executing": false
    }
   }
  },
  {
   "cell_type": "markdown",
   "source": [
    "### Experiment with 8 players\n"
   ],
   "metadata": {
    "collapsed": false
   }
  },
  {
   "cell_type": "code",
   "execution_count": 50,
   "outputs": [
    {
     "data": {
      "text/plain": "<Figure size 432x288 with 1 Axes>",
      "image/png": "[encoded data removed]"
     },
     "metadata": {
      "needs_background": "light"
     },
     "output_type": "display_data"
    }
   ],
   "source": [
    "experiment_with_8_player = multi_game_experiment(num_games, 8, seed)\n",
    "\n",
    "plt.hist(experiment_with_8_player, 30)\n",
    "plt.show()"
   ],
   "metadata": {
    "collapsed": false,
    "pycharm": {
     "name": "#%%\n",
     "is_executing": false
    }
   }
  }
 ],
 "metadata": {
  "kernelspec": {
   "display_name": "Python 3",
   "language": "python",
   "name": "python3"
  },
  "language_info": {
   "codemirror_mode": {
    "name": "ipython",
    "version": 2
   },
   "file_extension": ".py",
   "mimetype": "text/x-python",
   "name": "python",
   "nbconvert_exporter": "python",
   "pygments_lexer": "ipython2",
   "version": "2.7.6"
  },
  "pycharm": {
   "stem_cell": {
    "cell_type": "raw",
    "source": [],
    "metadata": {
     "collapsed": false
    }
   }
  }
 },
 "nbformat": 4,
 "nbformat_minor": 0
}